{
 "cells": [
  {
   "cell_type": "code",
   "execution_count": 8,
   "metadata": {
    "collapsed": true,
    "pycharm": {
     "name": "#%%\n"
    }
   },
   "outputs": [],
   "source": [
    "import pandas as pd"
   ]
  },
  {
   "cell_type": "code",
   "execution_count": 5,
   "outputs": [
    {
     "name": "stdout",
     "output_type": "stream",
     "text": [
      "            name location  ranking\n",
      "0  the Ol Finchy   Canada        1\n"
     ]
    }
   ],
   "source": [
    "#simple normalize\n",
    "\n",
    "a_dict = {\n",
    "    'name': 'the Ol Finchy',\n",
    "    'location': 'Canada',\n",
    "    'ranking': 1,\n",
    "}\n",
    "df = pd.json_normalize(a_dict)\n",
    "print(df)"
   ],
   "metadata": {
    "collapsed": false,
    "pycharm": {
     "name": "#%%\n"
    }
   }
  },
  {
   "cell_type": "code",
   "execution_count": 6,
   "outputs": [
    {
     "name": "stdout",
     "output_type": "stream",
     "text": [
      "<class 'pandas.core.frame.DataFrame'>\n",
      "RangeIndex: 1 entries, 0 to 0\n",
      "Data columns (total 3 columns):\n",
      " #   Column    Non-Null Count  Dtype \n",
      "---  ------    --------------  ----- \n",
      " 0   name      1 non-null      object\n",
      " 1   location  1 non-null      object\n",
      " 2   ranking   1 non-null      int64 \n",
      "dtypes: int64(1), object(2)\n",
      "memory usage: 152.0+ bytes\n"
     ]
    }
   ],
   "source": [
    "#check types\n",
    "df.info()"
   ],
   "metadata": {
    "collapsed": false,
    "pycharm": {
     "name": "#%%\n"
    }
   }
  },
  {
   "cell_type": "code",
   "execution_count": 12,
   "outputs": [
    {
     "name": "stdout",
     "output_type": "stream",
     "text": [
      "    class  student number    room\n",
      "0  Year 1            20.0  Yellow\n",
      "1  Year 2             NaN    Blue\n"
     ]
    }
   ],
   "source": [
    "# Normalize json that is list of dicts\n",
    "json_list = [\n",
    "    { 'class': 'Year 1', 'student number': 20, 'room': 'Yellow' },\n",
    "    { 'class': 'Year 2', 'room': 'Blue' },\n",
    "]\n",
    "df = pd.json_normalize(json_list)\n",
    "print(df)"
   ],
   "metadata": {
    "collapsed": false,
    "pycharm": {
     "name": "#%%\n"
    }
   }
  },
  {
   "cell_type": "code",
   "execution_count": 20,
   "outputs": [
    {
     "name": "stdout",
     "output_type": "stream",
     "text": [
      "               school location  ranking info.president  \\\n",
      "0  ABC primary school   London        2   Mike Mikeson   \n",
      "\n",
      "                                       info.contacts  \n",
      "0  {'email': {'admission': 'admission@abc.com', '...  \n"
     ]
    }
   ],
   "source": [
    "# normalize multi layer\n",
    "json_obj = {\n",
    "    'school': 'ABC primary school',\n",
    "    'location': 'London',\n",
    "    'ranking': 2,\n",
    "    'info': {\n",
    "        'president': 'Mike Mikeson',\n",
    "        'contacts': {\n",
    "          'email': {\n",
    "              'admission': 'admission@abc.com',\n",
    "              'general': 'info@abc.com'\n",
    "          },\n",
    "          'tel': '123456789',\n",
    "      }\n",
    "    }\n",
    "}\n",
    "df = pd.json_normalize(json_obj, max_level=1)\n",
    "print(df)"
   ],
   "metadata": {
    "collapsed": false,
    "pycharm": {
     "name": "#%%\n"
    }
   }
  },
  {
   "cell_type": "code",
   "execution_count": 21,
   "outputs": [
    {
     "name": "stdout",
     "output_type": "stream",
     "text": [
      "               school location  ranking  \\\n",
      "0  ABC primary school   London        2   \n",
      "\n",
      "                                            students info.president  \\\n",
      "0  [{'name': 'Tom'}, {'name': 'James'}, {'name': ...    John Kasich   \n",
      "\n",
      "                                       info.contacts  \n",
      "0  {'email': {'admission': 'admission@abc.com', '...  \n"
     ]
    }
   ],
   "source": [
    "# normalize multi layer with nested list\n",
    "json_obj = {\n",
    "    'school': 'ABC primary school',\n",
    "    'location': 'London',\n",
    "    'ranking': 2,\n",
    "    'info': {\n",
    "        'president': 'John Kasich',\n",
    "        'contacts': {\n",
    "          'email': {\n",
    "              'admission': 'admission@abc.com',\n",
    "              'general': 'info@abc.com'\n",
    "          },\n",
    "          'tel': '123456789',\n",
    "      }\n",
    "    },\n",
    "    'students': [\n",
    "      { 'name': 'Tom' },\n",
    "      { 'name': 'James' },\n",
    "      { 'name': 'Jacqueline' }\n",
    "    ],\n",
    "}\n",
    "df = pd.json_normalize(json_obj, max_level=1)\n",
    "print(df)"
   ],
   "metadata": {
    "collapsed": false,
    "pycharm": {
     "name": "#%%\n"
    }
   }
  },
  {
   "cell_type": "code",
   "execution_count": 24,
   "outputs": [
    {
     "name": "stdout",
     "output_type": "stream",
     "text": [
      "         name\n",
      "0         Tom\n",
      "1       James\n",
      "2  Jacqueline\n"
     ]
    }
   ],
   "source": [
    "# Just grab the students\n",
    "\n",
    "df = pd.json_normalize(json_obj, record_path=['students'])\n",
    "print(df)"
   ],
   "metadata": {
    "collapsed": false,
    "pycharm": {
     "name": "#%%\n"
    }
   }
  },
  {
   "cell_type": "code",
   "execution_count": 25,
   "outputs": [
    {
     "name": "stdout",
     "output_type": "stream",
     "text": [
      "         name              school info.contacts.tel\n",
      "0         Tom  ABC primary school         123456789\n",
      "1       James  ABC primary school         123456789\n",
      "2  Jacqueline  ABC primary school         123456789\n"
     ]
    }
   ],
   "source": [
    "\n",
    "df = pd.json_normalize(\n",
    "    json_obj,\n",
    "    record_path =['students'],\n",
    "    meta=['school', ['info', 'contacts', 'tel']],\n",
    ")\n",
    "print(df)"
   ],
   "metadata": {
    "collapsed": false,
    "pycharm": {
     "name": "#%%\n"
    }
   }
  },
  {
   "cell_type": "code",
   "execution_count": 26,
   "outputs": [
    {
     "name": "stdout",
     "output_type": "stream",
     "text": [
      "    class  student count    room  \\\n",
      "0  Year 1             20  Yellow   \n",
      "1  Year 2             25    Blue   \n",
      "\n",
      "                                            students info.teachers.math  \\\n",
      "0  [{'name': 'Tom', 'sex': 'M', 'grades': {'math'...         Rick Scott   \n",
      "1  [{'name': 'Tony', 'sex': 'M'}, {'name': 'Jacqu...        Alan Turing   \n",
      "\n",
      "  info.teachers.physics  \n",
      "0             Elon Mask  \n",
      "1       Albert Einstein  \n"
     ]
    }
   ],
   "source": [
    "#Data is list of dicts\n",
    "\n",
    "json_list = [\n",
    "    {\n",
    "        'class': 'Year 1',\n",
    "        'student count': 20,\n",
    "        'room': 'Yellow',\n",
    "        'info': {\n",
    "            'teachers': {\n",
    "                'math': 'Rick Scott',\n",
    "                'physics': 'Elon Mask'\n",
    "            }\n",
    "        },\n",
    "        'students': [\n",
    "            {\n",
    "                'name': 'Tom',\n",
    "                'sex': 'M',\n",
    "                'grades': { 'math': 66, 'physics': 77 }\n",
    "            },\n",
    "            {\n",
    "                'name': 'James',\n",
    "                'sex': 'M',\n",
    "                'grades': { 'math': 80, 'physics': 78 }\n",
    "            },\n",
    "        ]\n",
    "    },\n",
    "    {\n",
    "        'class': 'Year 2',\n",
    "        'student count': 25,\n",
    "        'room': 'Blue',\n",
    "        'info': {\n",
    "            'teachers': {\n",
    "                'math': 'Alan Turing',\n",
    "                'physics': 'Albert Einstein'\n",
    "            }\n",
    "        },\n",
    "        'students': [\n",
    "            { 'name': 'Tony', 'sex': 'M' },\n",
    "            { 'name': 'Jacqueline', 'sex': 'F' },\n",
    "        ]\n",
    "    },\n",
    "]\n",
    "\n",
    "\n",
    "df = pd.json_normalize(json_list)\n",
    "print(df)"
   ],
   "metadata": {
    "collapsed": false,
    "pycharm": {
     "name": "#%%\n"
    }
   }
  },
  {
   "cell_type": "code",
   "execution_count": null,
   "outputs": [],
   "source": [],
   "metadata": {
    "collapsed": false,
    "pycharm": {
     "name": "#%%\n"
    }
   }
  },
  {
   "cell_type": "code",
   "execution_count": null,
   "outputs": [],
   "source": [],
   "metadata": {
    "collapsed": false,
    "pycharm": {
     "name": "#%%\n"
    }
   }
  },
  {
   "cell_type": "code",
   "execution_count": null,
   "outputs": [],
   "source": [],
   "metadata": {
    "collapsed": false,
    "pycharm": {
     "name": "#%%\n"
    }
   }
  }
 ],
 "metadata": {
  "kernelspec": {
   "display_name": "Python 3",
   "language": "python",
   "name": "python3"
  },
  "language_info": {
   "codemirror_mode": {
    "name": "ipython",
    "version": 2
   },
   "file_extension": ".py",
   "mimetype": "text/x-python",
   "name": "python",
   "nbconvert_exporter": "python",
   "pygments_lexer": "ipython2",
   "version": "2.7.6"
  }
 },
 "nbformat": 4,
 "nbformat_minor": 0
}